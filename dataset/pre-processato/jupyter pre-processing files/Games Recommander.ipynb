{
 "cells": [
  {
   "metadata": {},
   "cell_type": "markdown",
   "source": "## 1. Analisi dei dati",
   "id": "8ea7932944c5ad55"
  },
  {
   "metadata": {},
   "cell_type": "markdown",
   "source": [
    "La fase introduttiva prevede la lettura e comprensione del dataset.\n",
    "Incentreremo il nostro lavoro sulla risoluzione di alcune problematiche legate alla presenza di celle vuote e l'individuazione di correlazione tra la colonna target e le altre features."
   ],
   "id": "42e2d4582cdf56a7"
  },
  {
   "metadata": {
    "ExecuteTime": {
     "end_time": "2025-03-31T15:40:56.965346Z",
     "start_time": "2025-03-31T15:40:56.959760Z"
    }
   },
   "cell_type": "code",
   "source": [
    "import numpy as np\n",
    "import pandas as pd\n",
    "\n",
    "import os\n",
    "\n",
    "import matplotlib.pyplot as plt\n",
    "import seaborn as sns\n",
    "import plotly\n",
    "import plotly.express as px"
   ],
   "id": "45014ae97ecbdaeb",
   "outputs": [],
   "execution_count": 91
  },
  {
   "metadata": {},
   "cell_type": "markdown",
   "source": "### 1.1 LETTURA E COMPRENSIONE DEL DATASET",
   "id": "64efa10242013641"
  },
  {
   "metadata": {},
   "cell_type": "markdown",
   "source": "Implementiamo la libreria pandas in modo da poter modellare il dataset",
   "id": "c7d1a5d780f23e3"
  },
  {
   "metadata": {
    "ExecuteTime": {
     "end_time": "2025-03-31T15:40:59.597466Z",
     "start_time": "2025-03-31T15:40:59.497095Z"
    }
   },
   "cell_type": "code",
   "source": [
    "steam_df = pd.read_csv(\"C:/Users/leomo/Desktop/Prog_Icon/dataset/originale/steam.csv\")\n",
    "steam_df.head()"
   ],
   "id": "2d2c985edbd20dbd",
   "outputs": [
    {
     "data": {
      "text/plain": [
       "   appid                       name release_date  english         developer  \\\n",
       "0     10             Counter-Strike   2000-11-01        1             Valve   \n",
       "1     20      Team Fortress Classic   1999-04-01        1             Valve   \n",
       "2     30              Day of Defeat   2003-05-01        1             Valve   \n",
       "3     40         Deathmatch Classic   2001-06-01        1             Valve   \n",
       "4     50  Half-Life: Opposing Force   1999-11-01        1  Gearbox Software   \n",
       "\n",
       "  publisher          platforms  required_age  \\\n",
       "0     Valve  windows;mac;linux             0   \n",
       "1     Valve  windows;mac;linux             0   \n",
       "2     Valve  windows;mac;linux             0   \n",
       "3     Valve  windows;mac;linux             0   \n",
       "4     Valve  windows;mac;linux             0   \n",
       "\n",
       "                                          categories  genres  \\\n",
       "0  Multi-player;Online Multi-Player;Local Multi-P...  Action   \n",
       "1  Multi-player;Online Multi-Player;Local Multi-P...  Action   \n",
       "2              Multi-player;Valve Anti-Cheat enabled  Action   \n",
       "3  Multi-player;Online Multi-Player;Local Multi-P...  Action   \n",
       "4  Single-player;Multi-player;Valve Anti-Cheat en...  Action   \n",
       "\n",
       "                  steamspy_tags  achievements  positive_ratings  \\\n",
       "0        Action;FPS;Multiplayer             0            124534   \n",
       "1        Action;FPS;Multiplayer             0              3318   \n",
       "2  FPS;World War II;Multiplayer             0              3416   \n",
       "3        Action;FPS;Multiplayer             0              1273   \n",
       "4             FPS;Action;Sci-fi             0              5250   \n",
       "\n",
       "   negative_ratings  average_playtime  median_playtime             owners  \\\n",
       "0              3339             17612              317  10000000-20000000   \n",
       "1               633               277               62   5000000-10000000   \n",
       "2               398               187               34   5000000-10000000   \n",
       "3               267               258              184   5000000-10000000   \n",
       "4               288               624              415   5000000-10000000   \n",
       "\n",
       "   price  \n",
       "0   7.19  \n",
       "1   3.99  \n",
       "2   3.99  \n",
       "3   3.99  \n",
       "4   3.99  "
      ],
      "text/html": [
       "<div>\n",
       "<style scoped>\n",
       "    .dataframe tbody tr th:only-of-type {\n",
       "        vertical-align: middle;\n",
       "    }\n",
       "\n",
       "    .dataframe tbody tr th {\n",
       "        vertical-align: top;\n",
       "    }\n",
       "\n",
       "    .dataframe thead th {\n",
       "        text-align: right;\n",
       "    }\n",
       "</style>\n",
       "<table border=\"1\" class=\"dataframe\">\n",
       "  <thead>\n",
       "    <tr style=\"text-align: right;\">\n",
       "      <th></th>\n",
       "      <th>appid</th>\n",
       "      <th>name</th>\n",
       "      <th>release_date</th>\n",
       "      <th>english</th>\n",
       "      <th>developer</th>\n",
       "      <th>publisher</th>\n",
       "      <th>platforms</th>\n",
       "      <th>required_age</th>\n",
       "      <th>categories</th>\n",
       "      <th>genres</th>\n",
       "      <th>steamspy_tags</th>\n",
       "      <th>achievements</th>\n",
       "      <th>positive_ratings</th>\n",
       "      <th>negative_ratings</th>\n",
       "      <th>average_playtime</th>\n",
       "      <th>median_playtime</th>\n",
       "      <th>owners</th>\n",
       "      <th>price</th>\n",
       "    </tr>\n",
       "  </thead>\n",
       "  <tbody>\n",
       "    <tr>\n",
       "      <th>0</th>\n",
       "      <td>10</td>\n",
       "      <td>Counter-Strike</td>\n",
       "      <td>2000-11-01</td>\n",
       "      <td>1</td>\n",
       "      <td>Valve</td>\n",
       "      <td>Valve</td>\n",
       "      <td>windows;mac;linux</td>\n",
       "      <td>0</td>\n",
       "      <td>Multi-player;Online Multi-Player;Local Multi-P...</td>\n",
       "      <td>Action</td>\n",
       "      <td>Action;FPS;Multiplayer</td>\n",
       "      <td>0</td>\n",
       "      <td>124534</td>\n",
       "      <td>3339</td>\n",
       "      <td>17612</td>\n",
       "      <td>317</td>\n",
       "      <td>10000000-20000000</td>\n",
       "      <td>7.19</td>\n",
       "    </tr>\n",
       "    <tr>\n",
       "      <th>1</th>\n",
       "      <td>20</td>\n",
       "      <td>Team Fortress Classic</td>\n",
       "      <td>1999-04-01</td>\n",
       "      <td>1</td>\n",
       "      <td>Valve</td>\n",
       "      <td>Valve</td>\n",
       "      <td>windows;mac;linux</td>\n",
       "      <td>0</td>\n",
       "      <td>Multi-player;Online Multi-Player;Local Multi-P...</td>\n",
       "      <td>Action</td>\n",
       "      <td>Action;FPS;Multiplayer</td>\n",
       "      <td>0</td>\n",
       "      <td>3318</td>\n",
       "      <td>633</td>\n",
       "      <td>277</td>\n",
       "      <td>62</td>\n",
       "      <td>5000000-10000000</td>\n",
       "      <td>3.99</td>\n",
       "    </tr>\n",
       "    <tr>\n",
       "      <th>2</th>\n",
       "      <td>30</td>\n",
       "      <td>Day of Defeat</td>\n",
       "      <td>2003-05-01</td>\n",
       "      <td>1</td>\n",
       "      <td>Valve</td>\n",
       "      <td>Valve</td>\n",
       "      <td>windows;mac;linux</td>\n",
       "      <td>0</td>\n",
       "      <td>Multi-player;Valve Anti-Cheat enabled</td>\n",
       "      <td>Action</td>\n",
       "      <td>FPS;World War II;Multiplayer</td>\n",
       "      <td>0</td>\n",
       "      <td>3416</td>\n",
       "      <td>398</td>\n",
       "      <td>187</td>\n",
       "      <td>34</td>\n",
       "      <td>5000000-10000000</td>\n",
       "      <td>3.99</td>\n",
       "    </tr>\n",
       "    <tr>\n",
       "      <th>3</th>\n",
       "      <td>40</td>\n",
       "      <td>Deathmatch Classic</td>\n",
       "      <td>2001-06-01</td>\n",
       "      <td>1</td>\n",
       "      <td>Valve</td>\n",
       "      <td>Valve</td>\n",
       "      <td>windows;mac;linux</td>\n",
       "      <td>0</td>\n",
       "      <td>Multi-player;Online Multi-Player;Local Multi-P...</td>\n",
       "      <td>Action</td>\n",
       "      <td>Action;FPS;Multiplayer</td>\n",
       "      <td>0</td>\n",
       "      <td>1273</td>\n",
       "      <td>267</td>\n",
       "      <td>258</td>\n",
       "      <td>184</td>\n",
       "      <td>5000000-10000000</td>\n",
       "      <td>3.99</td>\n",
       "    </tr>\n",
       "    <tr>\n",
       "      <th>4</th>\n",
       "      <td>50</td>\n",
       "      <td>Half-Life: Opposing Force</td>\n",
       "      <td>1999-11-01</td>\n",
       "      <td>1</td>\n",
       "      <td>Gearbox Software</td>\n",
       "      <td>Valve</td>\n",
       "      <td>windows;mac;linux</td>\n",
       "      <td>0</td>\n",
       "      <td>Single-player;Multi-player;Valve Anti-Cheat en...</td>\n",
       "      <td>Action</td>\n",
       "      <td>FPS;Action;Sci-fi</td>\n",
       "      <td>0</td>\n",
       "      <td>5250</td>\n",
       "      <td>288</td>\n",
       "      <td>624</td>\n",
       "      <td>415</td>\n",
       "      <td>5000000-10000000</td>\n",
       "      <td>3.99</td>\n",
       "    </tr>\n",
       "  </tbody>\n",
       "</table>\n",
       "</div>"
      ]
     },
     "execution_count": 92,
     "metadata": {},
     "output_type": "execute_result"
    }
   ],
   "execution_count": 92
  },
  {
   "metadata": {
    "ExecuteTime": {
     "end_time": "2025-03-31T15:41:02.444440Z",
     "start_time": "2025-03-31T15:41:02.415046Z"
    }
   },
   "cell_type": "code",
   "source": "steam_df.describe()",
   "id": "a9184e8e44ef64d5",
   "outputs": [
    {
     "data": {
      "text/plain": [
       "              appid       english  required_age  achievements  \\\n",
       "count  2.707500e+04  27075.000000  27075.000000  27075.000000   \n",
       "mean   5.962035e+05      0.981127      0.354903     45.248864   \n",
       "std    2.508942e+05      0.136081      2.406044    352.670281   \n",
       "min    1.000000e+01      0.000000      0.000000      0.000000   \n",
       "25%    4.012300e+05      1.000000      0.000000      0.000000   \n",
       "50%    5.990700e+05      1.000000      0.000000      7.000000   \n",
       "75%    7.987600e+05      1.000000      0.000000     23.000000   \n",
       "max    1.069460e+06      1.000000     18.000000   9821.000000   \n",
       "\n",
       "       positive_ratings  negative_ratings  average_playtime  median_playtime  \\\n",
       "count      2.707500e+04      27075.000000      27075.000000      27075.00000   \n",
       "mean       1.000559e+03        211.027147        149.804949        146.05603   \n",
       "std        1.898872e+04       4284.938531       1827.038141       2353.88008   \n",
       "min        0.000000e+00          0.000000          0.000000          0.00000   \n",
       "25%        6.000000e+00          2.000000          0.000000          0.00000   \n",
       "50%        2.400000e+01          9.000000          0.000000          0.00000   \n",
       "75%        1.260000e+02         42.000000          0.000000          0.00000   \n",
       "max        2.644404e+06     487076.000000     190625.000000     190625.00000   \n",
       "\n",
       "              price  \n",
       "count  27075.000000  \n",
       "mean       6.078193  \n",
       "std        7.874922  \n",
       "min        0.000000  \n",
       "25%        1.690000  \n",
       "50%        3.990000  \n",
       "75%        7.190000  \n",
       "max      421.990000  "
      ],
      "text/html": [
       "<div>\n",
       "<style scoped>\n",
       "    .dataframe tbody tr th:only-of-type {\n",
       "        vertical-align: middle;\n",
       "    }\n",
       "\n",
       "    .dataframe tbody tr th {\n",
       "        vertical-align: top;\n",
       "    }\n",
       "\n",
       "    .dataframe thead th {\n",
       "        text-align: right;\n",
       "    }\n",
       "</style>\n",
       "<table border=\"1\" class=\"dataframe\">\n",
       "  <thead>\n",
       "    <tr style=\"text-align: right;\">\n",
       "      <th></th>\n",
       "      <th>appid</th>\n",
       "      <th>english</th>\n",
       "      <th>required_age</th>\n",
       "      <th>achievements</th>\n",
       "      <th>positive_ratings</th>\n",
       "      <th>negative_ratings</th>\n",
       "      <th>average_playtime</th>\n",
       "      <th>median_playtime</th>\n",
       "      <th>price</th>\n",
       "    </tr>\n",
       "  </thead>\n",
       "  <tbody>\n",
       "    <tr>\n",
       "      <th>count</th>\n",
       "      <td>2.707500e+04</td>\n",
       "      <td>27075.000000</td>\n",
       "      <td>27075.000000</td>\n",
       "      <td>27075.000000</td>\n",
       "      <td>2.707500e+04</td>\n",
       "      <td>27075.000000</td>\n",
       "      <td>27075.000000</td>\n",
       "      <td>27075.00000</td>\n",
       "      <td>27075.000000</td>\n",
       "    </tr>\n",
       "    <tr>\n",
       "      <th>mean</th>\n",
       "      <td>5.962035e+05</td>\n",
       "      <td>0.981127</td>\n",
       "      <td>0.354903</td>\n",
       "      <td>45.248864</td>\n",
       "      <td>1.000559e+03</td>\n",
       "      <td>211.027147</td>\n",
       "      <td>149.804949</td>\n",
       "      <td>146.05603</td>\n",
       "      <td>6.078193</td>\n",
       "    </tr>\n",
       "    <tr>\n",
       "      <th>std</th>\n",
       "      <td>2.508942e+05</td>\n",
       "      <td>0.136081</td>\n",
       "      <td>2.406044</td>\n",
       "      <td>352.670281</td>\n",
       "      <td>1.898872e+04</td>\n",
       "      <td>4284.938531</td>\n",
       "      <td>1827.038141</td>\n",
       "      <td>2353.88008</td>\n",
       "      <td>7.874922</td>\n",
       "    </tr>\n",
       "    <tr>\n",
       "      <th>min</th>\n",
       "      <td>1.000000e+01</td>\n",
       "      <td>0.000000</td>\n",
       "      <td>0.000000</td>\n",
       "      <td>0.000000</td>\n",
       "      <td>0.000000e+00</td>\n",
       "      <td>0.000000</td>\n",
       "      <td>0.000000</td>\n",
       "      <td>0.00000</td>\n",
       "      <td>0.000000</td>\n",
       "    </tr>\n",
       "    <tr>\n",
       "      <th>25%</th>\n",
       "      <td>4.012300e+05</td>\n",
       "      <td>1.000000</td>\n",
       "      <td>0.000000</td>\n",
       "      <td>0.000000</td>\n",
       "      <td>6.000000e+00</td>\n",
       "      <td>2.000000</td>\n",
       "      <td>0.000000</td>\n",
       "      <td>0.00000</td>\n",
       "      <td>1.690000</td>\n",
       "    </tr>\n",
       "    <tr>\n",
       "      <th>50%</th>\n",
       "      <td>5.990700e+05</td>\n",
       "      <td>1.000000</td>\n",
       "      <td>0.000000</td>\n",
       "      <td>7.000000</td>\n",
       "      <td>2.400000e+01</td>\n",
       "      <td>9.000000</td>\n",
       "      <td>0.000000</td>\n",
       "      <td>0.00000</td>\n",
       "      <td>3.990000</td>\n",
       "    </tr>\n",
       "    <tr>\n",
       "      <th>75%</th>\n",
       "      <td>7.987600e+05</td>\n",
       "      <td>1.000000</td>\n",
       "      <td>0.000000</td>\n",
       "      <td>23.000000</td>\n",
       "      <td>1.260000e+02</td>\n",
       "      <td>42.000000</td>\n",
       "      <td>0.000000</td>\n",
       "      <td>0.00000</td>\n",
       "      <td>7.190000</td>\n",
       "    </tr>\n",
       "    <tr>\n",
       "      <th>max</th>\n",
       "      <td>1.069460e+06</td>\n",
       "      <td>1.000000</td>\n",
       "      <td>18.000000</td>\n",
       "      <td>9821.000000</td>\n",
       "      <td>2.644404e+06</td>\n",
       "      <td>487076.000000</td>\n",
       "      <td>190625.000000</td>\n",
       "      <td>190625.00000</td>\n",
       "      <td>421.990000</td>\n",
       "    </tr>\n",
       "  </tbody>\n",
       "</table>\n",
       "</div>"
      ]
     },
     "execution_count": 93,
     "metadata": {},
     "output_type": "execute_result"
    }
   ],
   "execution_count": 93
  },
  {
   "metadata": {
    "ExecuteTime": {
     "end_time": "2025-03-31T15:41:05.235070Z",
     "start_time": "2025-03-31T15:41:05.215738Z"
    }
   },
   "cell_type": "code",
   "source": "steam_df.info()",
   "id": "16c107081a5cafd1",
   "outputs": [
    {
     "name": "stdout",
     "output_type": "stream",
     "text": [
      "<class 'pandas.core.frame.DataFrame'>\n",
      "RangeIndex: 27075 entries, 0 to 27074\n",
      "Data columns (total 18 columns):\n",
      " #   Column            Non-Null Count  Dtype  \n",
      "---  ------            --------------  -----  \n",
      " 0   appid             27075 non-null  int64  \n",
      " 1   name              27075 non-null  object \n",
      " 2   release_date      27075 non-null  object \n",
      " 3   english           27075 non-null  int64  \n",
      " 4   developer         27074 non-null  object \n",
      " 5   publisher         27061 non-null  object \n",
      " 6   platforms         27075 non-null  object \n",
      " 7   required_age      27075 non-null  int64  \n",
      " 8   categories        27075 non-null  object \n",
      " 9   genres            27075 non-null  object \n",
      " 10  steamspy_tags     27075 non-null  object \n",
      " 11  achievements      27075 non-null  int64  \n",
      " 12  positive_ratings  27075 non-null  int64  \n",
      " 13  negative_ratings  27075 non-null  int64  \n",
      " 14  average_playtime  27075 non-null  int64  \n",
      " 15  median_playtime   27075 non-null  int64  \n",
      " 16  owners            27075 non-null  object \n",
      " 17  price             27075 non-null  float64\n",
      "dtypes: float64(1), int64(8), object(9)\n",
      "memory usage: 3.7+ MB\n"
     ]
    }
   ],
   "execution_count": 94
  },
  {
   "metadata": {},
   "cell_type": "markdown",
   "source": "### 1.2 Pre-processing del dataset",
   "id": "fe484847df738934"
  },
  {
   "metadata": {},
   "cell_type": "markdown",
   "source": "Dopo aver concluso la fase iniziale di analisi del dataset passiamo alla fase di pre-processing, nella quale effettueremo un cleaning dei dati.",
   "id": "79aa07e2f92ea849"
  },
  {
   "metadata": {
    "ExecuteTime": {
     "end_time": "2025-03-31T15:41:12.720630Z",
     "start_time": "2025-03-31T15:41:12.704234Z"
    }
   },
   "cell_type": "code",
   "source": [
    "columns_to_drop = [\n",
    "    'appid', 'english', 'developer', 'publisher',\n",
    "    'categories', 'platforms', 'required_age',\n",
    "    'median_playtime', 'steamspy_tags'\n",
    "]\n",
    "steam_df = steam_df.drop(columns=columns_to_drop, errors='ignore')\n",
    "steam_df.head()"
   ],
   "id": "9411e0ee1fad0e16",
   "outputs": [
    {
     "data": {
      "text/plain": [
       "                        name release_date  genres  achievements  \\\n",
       "0             Counter-Strike   2000-11-01  Action             0   \n",
       "1      Team Fortress Classic   1999-04-01  Action             0   \n",
       "2              Day of Defeat   2003-05-01  Action             0   \n",
       "3         Deathmatch Classic   2001-06-01  Action             0   \n",
       "4  Half-Life: Opposing Force   1999-11-01  Action             0   \n",
       "\n",
       "   positive_ratings  negative_ratings  average_playtime             owners  \\\n",
       "0            124534              3339             17612  10000000-20000000   \n",
       "1              3318               633               277   5000000-10000000   \n",
       "2              3416               398               187   5000000-10000000   \n",
       "3              1273               267               258   5000000-10000000   \n",
       "4              5250               288               624   5000000-10000000   \n",
       "\n",
       "   price  \n",
       "0   7.19  \n",
       "1   3.99  \n",
       "2   3.99  \n",
       "3   3.99  \n",
       "4   3.99  "
      ],
      "text/html": [
       "<div>\n",
       "<style scoped>\n",
       "    .dataframe tbody tr th:only-of-type {\n",
       "        vertical-align: middle;\n",
       "    }\n",
       "\n",
       "    .dataframe tbody tr th {\n",
       "        vertical-align: top;\n",
       "    }\n",
       "\n",
       "    .dataframe thead th {\n",
       "        text-align: right;\n",
       "    }\n",
       "</style>\n",
       "<table border=\"1\" class=\"dataframe\">\n",
       "  <thead>\n",
       "    <tr style=\"text-align: right;\">\n",
       "      <th></th>\n",
       "      <th>name</th>\n",
       "      <th>release_date</th>\n",
       "      <th>genres</th>\n",
       "      <th>achievements</th>\n",
       "      <th>positive_ratings</th>\n",
       "      <th>negative_ratings</th>\n",
       "      <th>average_playtime</th>\n",
       "      <th>owners</th>\n",
       "      <th>price</th>\n",
       "    </tr>\n",
       "  </thead>\n",
       "  <tbody>\n",
       "    <tr>\n",
       "      <th>0</th>\n",
       "      <td>Counter-Strike</td>\n",
       "      <td>2000-11-01</td>\n",
       "      <td>Action</td>\n",
       "      <td>0</td>\n",
       "      <td>124534</td>\n",
       "      <td>3339</td>\n",
       "      <td>17612</td>\n",
       "      <td>10000000-20000000</td>\n",
       "      <td>7.19</td>\n",
       "    </tr>\n",
       "    <tr>\n",
       "      <th>1</th>\n",
       "      <td>Team Fortress Classic</td>\n",
       "      <td>1999-04-01</td>\n",
       "      <td>Action</td>\n",
       "      <td>0</td>\n",
       "      <td>3318</td>\n",
       "      <td>633</td>\n",
       "      <td>277</td>\n",
       "      <td>5000000-10000000</td>\n",
       "      <td>3.99</td>\n",
       "    </tr>\n",
       "    <tr>\n",
       "      <th>2</th>\n",
       "      <td>Day of Defeat</td>\n",
       "      <td>2003-05-01</td>\n",
       "      <td>Action</td>\n",
       "      <td>0</td>\n",
       "      <td>3416</td>\n",
       "      <td>398</td>\n",
       "      <td>187</td>\n",
       "      <td>5000000-10000000</td>\n",
       "      <td>3.99</td>\n",
       "    </tr>\n",
       "    <tr>\n",
       "      <th>3</th>\n",
       "      <td>Deathmatch Classic</td>\n",
       "      <td>2001-06-01</td>\n",
       "      <td>Action</td>\n",
       "      <td>0</td>\n",
       "      <td>1273</td>\n",
       "      <td>267</td>\n",
       "      <td>258</td>\n",
       "      <td>5000000-10000000</td>\n",
       "      <td>3.99</td>\n",
       "    </tr>\n",
       "    <tr>\n",
       "      <th>4</th>\n",
       "      <td>Half-Life: Opposing Force</td>\n",
       "      <td>1999-11-01</td>\n",
       "      <td>Action</td>\n",
       "      <td>0</td>\n",
       "      <td>5250</td>\n",
       "      <td>288</td>\n",
       "      <td>624</td>\n",
       "      <td>5000000-10000000</td>\n",
       "      <td>3.99</td>\n",
       "    </tr>\n",
       "  </tbody>\n",
       "</table>\n",
       "</div>"
      ]
     },
     "execution_count": 95,
     "metadata": {},
     "output_type": "execute_result"
    }
   ],
   "execution_count": 95
  },
  {
   "metadata": {},
   "cell_type": "markdown",
   "source": [
    "Sono state eliminate le seguenti colonne:\n",
    "***'appid'***: identificatore tecnico non necessario per l’utente finale.\n",
    "\n",
    "***'english'***: il dataset non si focalizza sulla lingua, la colonna è ridondante.\n",
    "\n",
    "***'developer'***, ***'publisher'***: valori molto variabili e specifici, poco utili per raccomandazioni.\n",
    "\n",
    "***'categories e steamspy_tags'***: informazioni simili già contenute in genres.\n",
    "\n",
    "***'platforms'***: non considerato un criterio di raccomandazione in questo contesto.\n",
    "\n",
    "***'required_age'***: dato poco rilevante per il nostro scopo.\n",
    "\n",
    "***'median_playtime'***: sostituito da average_playtime, più adatto a misurare popolarità."
   ],
   "id": "78d4156f648f8d85"
  },
  {
   "metadata": {},
   "cell_type": "markdown",
   "source": "Procediamo a 'standardizzare' i valori presenti nella categoria 'id' cha saranno utili per il lavoro dello StandardScaler nel Recommender System.",
   "id": "da840462cacaede1"
  },
  {
   "metadata": {
    "ExecuteTime": {
     "end_time": "2025-03-31T15:41:17.652518Z",
     "start_time": "2025-03-31T15:41:17.547436Z"
    }
   },
   "cell_type": "code",
   "source": [
    "df = pd.DataFrame(steam_df)\n",
    "df['name'] = df['name'].str.replace('\"', '', regex=False)\n",
    "df['name'] = df['name'].str.replace(\"'\", '', regex=False)\n",
    "\n",
    "# Salvataggio dataset standardizzato\n",
    "df.to_csv('steam_standard_dataset.csv', index=False)"
   ],
   "id": "571eb4fd0bdf6c4c",
   "outputs": [],
   "execution_count": 96
  },
  {
   "metadata": {},
   "cell_type": "markdown",
   "source": [
    "Dall'analisi del dataset abbiamo osservato che alcune metriche numeriche, come ***'price'*** e ***'average_playtime'***, presentano valori che non risultano approssimati in maniera coerente.\n",
    "\n",
    "In particolare, il campo ***'price'*** include valori con numerose cifre decimali, mentre ***'average_playtime'*** mostra numeri con valori molto elevati che non sono stati arrotondati all'unità.\n",
    "\n",
    "Per garantire una maggiore uniformità e leggibilità del dataset — specialmente in vista di rappresentazioni grafiche e fasi successive del sistema di raccomandazione — abbiamo proceduto ad approssimare:\n",
    "\n",
    "la colonna ***'price'*** a due cifre decimali\n",
    "\n",
    "la colonna ***'average_playtime'*** a numeri interi\n",
    "\n",
    "I dati sono stati poi salvati nel file steam_rounded_dataset.csv per un utilizzo coerente nelle fasi successive dell'analisi."
   ],
   "id": "8569c1dd5271f5f8"
  },
  {
   "metadata": {
    "ExecuteTime": {
     "end_time": "2025-03-31T15:41:58.223446Z",
     "start_time": "2025-03-31T15:41:58.210875Z"
    }
   },
   "cell_type": "code",
   "source": "steam_df['price'].describe()",
   "id": "e549ce5ba43198f0",
   "outputs": [
    {
     "data": {
      "text/plain": [
       "count    27075.000000\n",
       "mean         6.078193\n",
       "std          7.874922\n",
       "min          0.000000\n",
       "25%          1.690000\n",
       "50%          3.990000\n",
       "75%          7.190000\n",
       "max        421.990000\n",
       "Name: price, dtype: float64"
      ]
     },
     "execution_count": 97,
     "metadata": {},
     "output_type": "execute_result"
    }
   ],
   "execution_count": 97
  },
  {
   "metadata": {
    "ExecuteTime": {
     "end_time": "2025-03-31T15:42:02.053974Z",
     "start_time": "2025-03-31T15:42:02.042271Z"
    }
   },
   "cell_type": "code",
   "source": "steam_df['average_playtime'].describe()",
   "id": "be603cefd485865f",
   "outputs": [
    {
     "data": {
      "text/plain": [
       "count     27075.000000\n",
       "mean        149.804949\n",
       "std        1827.038141\n",
       "min           0.000000\n",
       "25%           0.000000\n",
       "50%           0.000000\n",
       "75%           0.000000\n",
       "max      190625.000000\n",
       "Name: average_playtime, dtype: float64"
      ]
     },
     "execution_count": 98,
     "metadata": {},
     "output_type": "execute_result"
    }
   ],
   "execution_count": 98
  },
  {
   "metadata": {
    "ExecuteTime": {
     "end_time": "2025-03-31T15:42:08.639262Z",
     "start_time": "2025-03-31T15:42:08.515637Z"
    }
   },
   "cell_type": "code",
   "source": [
    "df = pd.read_csv('steam_standard_dataset.csv')\n",
    "df['price'] = df['price'].round(2)\n",
    "df['average_playtime'] = df['average_playtime'].round(0)\n",
    "print(df[['price', 'average_playtime']].head(10).to_string(index=False))\n",
    "\n",
    "df.to_csv('steam_rounded_dataset.csv', index=False)"
   ],
   "id": "b08e4b005faea586",
   "outputs": [
    {
     "name": "stdout",
     "output_type": "stream",
     "text": [
      " price  average_playtime\n",
      "  7.19             17612\n",
      "  3.99               277\n",
      "  3.99               187\n",
      "  3.99               258\n",
      "  3.99               624\n",
      "  3.99               175\n",
      "  7.19              1300\n",
      "  7.19               427\n",
      "  3.99               361\n",
      "  7.19               691\n"
     ]
    }
   ],
   "execution_count": 99
  },
  {
   "metadata": {},
   "cell_type": "markdown",
   "source": "Procediamo a rinominare le colonne: ***'name'***,  ***'genres'***, ***'price'*** e ***'average_playtime'*** con i nuovi titoli di: ***'title'***, ***'genre'***, ***'game_price'*** e ***'avg_playtime'***.",
   "id": "bea9b8edeff53f5b"
  },
  {
   "metadata": {
    "ExecuteTime": {
     "end_time": "2025-03-31T15:42:34.226746Z",
     "start_time": "2025-03-31T15:42:34.081828Z"
    }
   },
   "cell_type": "code",
   "source": [
    "df = pd.read_csv('steam_rounded_dataset.csv')\n",
    "df.rename(columns={\n",
    "    'name': 'title',\n",
    "    'genres': 'genre',\n",
    "    'price': 'game_price',\n",
    "    'average_playtime': 'avg_playtime'\n",
    "}, inplace=True)\n",
    "df.to_csv('steam_renamed_dataset.csv', index=False)"
   ],
   "id": "f04654a46bf694ed",
   "outputs": [],
   "execution_count": 100
  },
  {
   "metadata": {},
   "cell_type": "markdown",
   "source": "### 1.2.1 Gestione delle celle null per ogni colonna",
   "id": "b4775635691fc166"
  },
  {
   "metadata": {
    "ExecuteTime": {
     "end_time": "2025-03-31T15:42:43.053332Z",
     "start_time": "2025-03-31T15:42:43.041101Z"
    }
   },
   "cell_type": "code",
   "source": "steam_df.isnull().sum()",
   "id": "4c7f20245bb4c7bd",
   "outputs": [
    {
     "data": {
      "text/plain": [
       "name                0\n",
       "release_date        0\n",
       "genres              0\n",
       "achievements        0\n",
       "positive_ratings    0\n",
       "negative_ratings    0\n",
       "average_playtime    0\n",
       "owners              0\n",
       "price               0\n",
       "dtype: int64"
      ]
     },
     "execution_count": 101,
     "metadata": {},
     "output_type": "execute_result"
    }
   ],
   "execution_count": 101
  },
  {
   "metadata": {},
   "cell_type": "markdown",
   "source": "Da questa funzione risulta che il nostro dataset non presenta alcun valore nullo da gestire.",
   "id": "cbb1474d3e4d8791"
  },
  {
   "metadata": {},
   "cell_type": "markdown",
   "source": "***Istogramma che rappresenta la distribuzione dei giochi per fascia di prezzo presenti nel dataset***",
   "id": "1b9a668bcb448fd6"
  },
  {
   "metadata": {
    "ExecuteTime": {
     "end_time": "2025-03-31T15:42:56.078384Z",
     "start_time": "2025-03-31T15:42:55.885891Z"
    }
   },
   "cell_type": "code",
   "source": [
    "df = pd.read_csv(\"steam_renamed_dataset.csv\")\n",
    "\n",
    "# Fasce di prezzo\n",
    "price_bins = pd.cut(df['game_price'], bins=[0, 5, 10, 20, 40, 60, 100])\n",
    "price_counts = price_bins.value_counts().sort_index()\n",
    "\n",
    "# Istogramma\n",
    "plt.figure(figsize=(10, 6))\n",
    "price_counts.plot(kind='bar', color='skyblue')\n",
    "plt.title('Distribuzione dei giochi per fascia di prezzo')\n",
    "plt.xlabel('Fascia di prezzo (€)')\n",
    "plt.ylabel('Numero di giochi')\n",
    "plt.xticks(rotation=45)\n",
    "plt.tight_layout()\n",
    "plt.grid(True)\n",
    "plt.show()"
   ],
   "id": "c993b6084f2c8226",
   "outputs": [
    {
     "data": {
      "text/plain": [
       "<Figure size 1000x600 with 1 Axes>"
      ],
      "image/png": "[encoded data removed]"
     },
     "metadata": {},
     "output_type": "display_data"
    }
   ],
   "execution_count": 102
  },
  {
   "metadata": {},
   "cell_type": "markdown",
   "source": [
    "Dall'istogramma generato possiamo osservare la distribuzione dei videogiochi tra diverse fasce di prezzo.\n",
    "Si nota una netta concentrazione di titoli nella fascia 0–5€, suggerendo che la maggior parte dei giochi su Steam siano economici o gratuiti.\n",
    "Le fasce più alte (oltre i 40€) contengono un numero molto ridotto di titoli, il che indica che le raccomandazioni di prezzo più elevato saranno statisticamente meno frequenti."
   ],
   "id": "781fec21d7128a91"
  },
  {
   "metadata": {},
   "cell_type": "markdown",
   "source": "***Grafico a violino che mostra la distribuzione dei valori prezzo e tempo medio di gioco***",
   "id": "21d6bc2208a6521d"
  },
  {
   "metadata": {
    "ExecuteTime": {
     "end_time": "2025-03-31T15:43:07.570622Z",
     "start_time": "2025-03-31T15:43:07.123383Z"
    }
   },
   "cell_type": "code",
   "source": [
    "df = pd.read_csv(\"steam_renamed_dataset.csv\")\n",
    "\n",
    "# Filtro outlier e dati non validi\n",
    "df_filtered = df[(df['avg_playtime'] > 0) & (df['avg_playtime'] < 20000) & (df['game_price'] < 100)]\n",
    "\n",
    "# Melt per struttura long\n",
    "df_long = pd.melt(df_filtered, id_vars=['title'], value_vars=['game_price', 'avg_playtime'],\n",
    "                  var_name='feature', value_name='value')\n",
    "\n",
    "plt.figure(figsize=(12, 6))\n",
    "sns.violinplot(x='feature', y='value', hue='feature', data=df_long, inner='quartile', palette='pastel', legend=False)\n",
    "\n",
    "\n",
    "plt.yscale('log')\n",
    "plt.title('Distribuzione del prezzo e del tempo medio di gioco (scala logaritmica)')\n",
    "plt.xlabel('Tipo di metrica')\n",
    "plt.ylabel('Valore (scala log)')\n",
    "plt.grid(True, linestyle='--', alpha=0.5)\n",
    "plt.tight_layout()\n",
    "plt.show()\n"
   ],
   "id": "faef755c713e3ca",
   "outputs": [
    {
     "data": {
      "text/plain": [
       "<Figure size 1200x600 with 1 Axes>"
      ],
      "image/png": "[encoded data removed]"
     },
     "metadata": {},
     "output_type": "display_data"
    }
   ],
   "execution_count": 103
  },
  {
   "metadata": {},
   "cell_type": "markdown",
   "source": [
    "L'uso della scala logaritmica sull'asse verticale consente di evidenziare meglio la distribuzione dei dati, che altrimenti risulterebbe troppo sbilanciata a causa degli outlier, in particolare nei valori di avg_playtime.\n",
    "\n",
    "Per quanto riguarda ***'game_price'***, osserviamo una distribuzione asimmetrica e concentrata verso valori molto bassi: la maggior parte dei giochi si colloca tra 0 e 10 euro, con pochi titoli che superano i 20 euro. Questo indica che la piattaforma Steam ospita una grande quantità di giochi economici o addirittura gratuiti.\n",
    "\n",
    "In merito a ***'avg_playtime'***, la distribuzione è molto più dispersa: la maggior parte dei giochi presenta un tempo medio inferiore alle 100 ore, ma esistono titoli con playtime medio che supera le 10.000 ore, tipicamente legati a esperienze multiplayer o molto longeve (es. MMORPG, sandbox).\n"
   ],
   "id": "a7b83e7c5108d807"
  },
  {
   "metadata": {},
   "cell_type": "markdown",
   "source": "***Grafico che rappresenta la distribuzione del prezzo medio per genere***",
   "id": "221dfeef69619dcf"
  },
  {
   "metadata": {
    "ExecuteTime": {
     "end_time": "2025-03-31T15:43:17.149436Z",
     "start_time": "2025-03-31T15:43:16.881926Z"
    }
   },
   "cell_type": "code",
   "source": [
    "df = pd.read_csv(\"steam_renamed_dataset.csv\")\n",
    "\n",
    "# Separazione dei generi multipli\n",
    "df['genre'] = df['genre'].astype(str)\n",
    "df_genres = df.assign(genre=df['genre'].str.split(';')).explode('genre')\n",
    "\n",
    "# Trova i 6 generi più frequenti\n",
    "top_genres = df_genres['genre'].value_counts().nlargest(6).index\n",
    "\n",
    "# Filtra e calcola il prezzo medio\n",
    "df_top = df_genres[df_genres['genre'].isin(top_genres)]\n",
    "avg_price = df_top.groupby('genre')['game_price'].mean().sort_values()\n",
    "\n",
    "# Plot\n",
    "plt.figure(figsize=(10, 6))\n",
    "sns.barplot(x=avg_price.index, y=avg_price.values, hue=avg_price.index, palette='muted', legend=False)\n",
    "\n",
    "# Etichette\n",
    "plt.title('Prezzo medio dei giochi per genere (Top 6)')\n",
    "plt.ylabel('Prezzo medio (€)')\n",
    "plt.xlabel('Genere')\n",
    "plt.xticks(rotation=45)\n",
    "plt.grid(True)\n",
    "plt.tight_layout()\n",
    "plt.show()\n"
   ],
   "id": "ef78f6d4c155186e",
   "outputs": [
    {
     "data": {
      "text/plain": [
       "<Figure size 1000x600 with 1 Axes>"
      ],
      "image/png": "[encoded data removed]"
     },
     "metadata": {},
     "output_type": "display_data"
    }
   ],
   "execution_count": 104
  },
  {
   "metadata": {},
   "cell_type": "markdown",
   "source": [
    "Si osserva che i generi Simulation e Strategy presentano il prezzo medio più elevato tra i top 6, suggerendo che molti dei titoli appartenenti a queste categorie abbiano una maggiore complessità, profondità di gameplay e, in alcuni casi, una nicchia di utenza disposta a spendere di più per esperienze più tecniche o gestionali.\n",
    "\n",
    "Adventure e Action si posizionano nella fascia media di prezzo, indicando una buona varietà di titoli che spaziano da produzioni indipendenti fino a giochi di medio-alto profilo. La presenza in questa fascia riflette anche la loro ampia diffusione e popolarità, che bilancia produzioni economiche con titoli di fascia più alta.\n",
    "\n",
    "I generi Indie e Casual evidenziano invece un prezzo medio inferiore, coerentemente con il fatto che si tratta spesso di giochi sviluppati da studi indipendenti, caratterizzati da esperienze di gioco più brevi, accessibili e con costi di produzione contenuti. Questi generi rappresentano una proposta più economica per l'utente, ma non per questo meno interessante in termini di creatività e innovazione."
   ],
   "id": "6954a196859d5f39"
  },
  {
   "metadata": {},
   "cell_type": "markdown",
   "source": "### 1.3 Individuazione di eventuali correlazioni",
   "id": "48690180271fccc3"
  },
  {
   "metadata": {
    "ExecuteTime": {
     "end_time": "2025-03-31T15:43:27.381406Z",
     "start_time": "2025-03-31T15:43:26.997078Z"
    }
   },
   "cell_type": "code",
   "source": [
    "df = pd.read_csv(\"steam_renamed_dataset.csv\")\n",
    "df = df.dropna(subset=['genre'])\n",
    "\n",
    "# Separazione dei generi multipli per ogni gioco\n",
    "all_genres = df['genre'].str.split(';')\n",
    "exploded = all_genres.explode()\n",
    "\n",
    "# Conteggio dei giochi per genere singolo\n",
    "genre_counts = exploded.value_counts().reset_index()\n",
    "genre_counts.columns = ['genre', 'number_of_games']\n",
    "print(genre_counts)\n"
   ],
   "id": "bdd5547bb97d2327",
   "outputs": [
    {
     "name": "stdout",
     "output_type": "stream",
     "text": [
      "                    genre  number_of_games\n",
      "0                   Indie            19421\n",
      "1                  Action            11903\n",
      "2                  Casual            10210\n",
      "3               Adventure            10032\n",
      "4                Strategy             5247\n",
      "5              Simulation             5194\n",
      "6                     RPG             4311\n",
      "7            Early Access             2954\n",
      "8            Free to Play             1704\n",
      "9                  Sports             1322\n",
      "10                 Racing             1024\n",
      "11                Violent              843\n",
      "12  Massively Multiplayer              723\n",
      "13                   Gore              537\n",
      "14                 Nudity              266\n",
      "15         Sexual Content              245\n",
      "16              Utilities              146\n",
      "17  Design & Illustration               87\n",
      "18   Animation & Modeling               79\n",
      "19              Education               51\n",
      "20       Video Production               38\n",
      "21      Software Training               31\n",
      "22       Audio Production               29\n",
      "23         Web Publishing               28\n",
      "24       Game Development               17\n",
      "25          Photo Editing               12\n",
      "26             Accounting                6\n",
      "27            Documentary                1\n",
      "28               Tutorial                1\n"
     ]
    }
   ],
   "execution_count": 105
  },
  {
   "metadata": {},
   "cell_type": "markdown",
   "source": "***Confronto della distribuzione dei generi nei giochi gratuiti vs a pagamento***",
   "id": "dbdcfe02f95aaa6f"
  },
  {
   "metadata": {
    "ExecuteTime": {
     "end_time": "2025-03-31T15:43:34.251916Z",
     "start_time": "2025-03-31T15:43:33.586413Z"
    }
   },
   "cell_type": "code",
   "source": [
    "import matplotlib.pyplot as plt\n",
    "df = pd.read_csv(\"steam_renamed_dataset.csv\")\n",
    "# Rimuove righe con genere nullo\n",
    "df = df.dropna(subset=['genre'])\n",
    "# Crea colonna di categoria prezzo\n",
    "df['price_category'] = df['game_price'].apply(lambda x: 'Free' if x == 0 else 'Paid')\n",
    "# Divide i generi multipli in righe singole\n",
    "df_exploded = df.assign(genre_split=df['genre'].str.split(';')).explode('genre_split')\n",
    "# Ottieni i 10 generi più comuni\n",
    "top_genres = df_exploded['genre_split'].value_counts().nlargest(10).index\n",
    "df_top = df_exploded[df_exploded['genre_split'].isin(top_genres)]\n",
    "\n",
    "# Grafico a barre\n",
    "plt.figure(figsize=(12, 6))\n",
    "sns.countplot(data=df_top, x='genre_split', hue='price_category', order=top_genres, palette='muted')\n",
    "\n",
    "plt.title('Distribuzione dei generi nei giochi Free vs Paid')\n",
    "plt.xlabel('Genere')\n",
    "plt.ylabel('Numero di giochi')\n",
    "plt.xticks(rotation=45)\n",
    "plt.grid(True)\n",
    "plt.tight_layout()\n",
    "plt.show()"
   ],
   "id": "7fd01f6bdd7a0b0f",
   "outputs": [
    {
     "data": {
      "text/plain": [
       "<Figure size 1200x600 with 1 Axes>"
      ],
      "image/png": "[encoded data removed]"
     },
     "metadata": {},
     "output_type": "display_data"
    }
   ],
   "execution_count": 106
  },
  {
   "metadata": {
    "ExecuteTime": {
     "end_time": "2025-03-31T17:26:45.809698Z",
     "start_time": "2025-03-31T17:26:45.627615Z"
    }
   },
   "cell_type": "code",
   "source": [
    "df = pd.read_csv(\"steam_renamed_dataset.csv\")\n",
    "\n",
    "# Classifica i giochi in Free o Paid\n",
    "df['price_category'] = df['game_price'].apply(lambda x: 'Free' if x == 0 else 'Paid')\n",
    "df = df.dropna(subset=['genre'])\n",
    "df['genre_split'] = df['genre'].str.split(';')\n",
    "df_exploded = df.explode('genre_split')\n",
    "\n",
    "# Raggruppa per categoria di prezzo e genere\n",
    "genre_counts = df_exploded.groupby(['price_category', 'genre_split']).size().reset_index(name='count').sort_values(by='count', ascending=False)\n",
    "print(genre_counts.head(10))"
   ],
   "id": "64b0267535e05673",
   "outputs": [
    {
     "name": "stdout",
     "output_type": "stream",
     "text": [
      "   price_category   genre_split  count\n",
      "40           Paid         Indie  17864\n",
      "28           Paid        Action  10946\n",
      "32           Paid        Casual   9316\n",
      "29           Paid     Adventure   9300\n",
      "50           Paid      Strategy   4731\n",
      "47           Paid    Simulation   4709\n",
      "44           Paid           RPG   3835\n",
      "35           Paid  Early Access   2605\n",
      "9            Free  Free to Play   1671\n",
      "12           Free         Indie   1557\n"
     ]
    }
   ],
   "execution_count": 108
  }
 ],
 "metadata": {
  "kernelspec": {
   "display_name": "Python 3",
   "language": "python",
   "name": "python3"
  },
  "language_info": {
   "codemirror_mode": {
    "name": "ipython",
    "version": 2
   },
   "file_extension": ".py",
   "mimetype": "text/x-python",
   "name": "python",
   "nbconvert_exporter": "python",
   "pygments_lexer": "ipython2",
   "version": "2.7.6"
  }
 },
 "nbformat": 4,
 "nbformat_minor": 5
}
